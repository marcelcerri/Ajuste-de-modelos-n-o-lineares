{
  "nbformat": 4,
  "nbformat_minor": 0,
  "metadata": {
    "colab": {
      "name": "Integração numérica de crescimento microbiano exponencial",
      "version": "0.3.2",
      "provenance": [],
      "collapsed_sections": []
    }
  },
  "cells": [
    {
      "metadata": {
        "id": "CCwi196E9u6X",
        "colab_type": "text"
      },
      "cell_type": "markdown",
      "source": [
        "https://www.youtube.com/watch?v=8-V5T40aMEc"
      ]
    },
    {
      "metadata": {
        "id": "JddB7Wdp_wPa",
        "colab_type": "text"
      },
      "cell_type": "markdown",
      "source": [
        "https://stackoverflow.com/questions/16001341/having-trouble-while-using-scipy-integrate-odeint-with-python?noredirect=1&lq=1\n"
      ]
    },
    {
      "metadata": {
        "id": "ve5rmK189t81",
        "colab_type": "code",
        "colab": {}
      },
      "cell_type": "code",
      "source": [
        "import numpy as np\n",
        "from scipy.integrate import odeint\n",
        "import matplotlib.pyplot as plt\n",
        "from google.colab import files"
      ],
      "execution_count": 0,
      "outputs": []
    },
    {
      "metadata": {
        "id": "uGIFhUr5-M5U",
        "colab_type": "code",
        "colab": {}
      },
      "cell_type": "code",
      "source": [
        "def growth(C,t, mi):\n",
        "  dCdt = mi*C\n",
        "  return dCdt"
      ],
      "execution_count": 0,
      "outputs": []
    },
    {
      "metadata": {
        "id": "E8AIL1QS_iYg",
        "colab_type": "code",
        "colab": {
          "base_uri": "https://localhost:8080/",
          "height": 50
        },
        "outputId": "bf85a2ee-1ca9-439a-bfff-b8edac0f1cc4"
      },
      "cell_type": "code",
      "source": [
        "t = np.linspace (0,10,21)\n",
        "Ca0 = 0.1\n",
        "print (t)"
      ],
      "execution_count": 17,
      "outputs": [
        {
          "output_type": "stream",
          "text": [
            "[ 0.   0.5  1.   1.5  2.   2.5  3.   3.5  4.   4.5  5.   5.5  6.   6.5\n",
            "  7.   7.5  8.   8.5  9.   9.5 10. ]\n"
          ],
          "name": "stdout"
        }
      ]
    },
    {
      "metadata": {
        "id": "8-jZV5_A-7lW",
        "colab_type": "code",
        "colab": {}
      },
      "cell_type": "code",
      "source": [
        "mi=0.4\n",
        "y = odeint(growth, Ca0, t, args=(mi,))"
      ],
      "execution_count": 0,
      "outputs": []
    },
    {
      "metadata": {
        "id": "jerU_yVj_Uy4",
        "colab_type": "code",
        "colab": {
          "base_uri": "https://localhost:8080/",
          "height": 370
        },
        "outputId": "37c0491c-c960-4d67-95d4-64ff9739bac0"
      },
      "cell_type": "code",
      "source": [
        "print(y)"
      ],
      "execution_count": 19,
      "outputs": [
        {
          "output_type": "stream",
          "text": [
            "[[0.1       ]\n",
            " [0.12214028]\n",
            " [0.14918247]\n",
            " [0.18221189]\n",
            " [0.22255411]\n",
            " [0.27182821]\n",
            " [0.33201174]\n",
            " [0.40552004]\n",
            " [0.49530331]\n",
            " [0.60496485]\n",
            " [0.73890575]\n",
            " [0.90250154]\n",
            " [1.10231789]\n",
            " [1.34637414]\n",
            " [1.64446512]\n",
            " [2.00855429]\n",
            " [2.45325379]\n",
            " [2.99641101]\n",
            " [3.65982476]\n",
            " [4.47012013]\n",
            " [5.45981718]]\n"
          ],
          "name": "stdout"
        }
      ]
    },
    {
      "metadata": {
        "id": "dbMEybU1_Ws9",
        "colab_type": "code",
        "colab": {
          "base_uri": "https://localhost:8080/",
          "height": 364
        },
        "outputId": "5a051730-1e7e-40e9-a667-2e32307b0190"
      },
      "cell_type": "code",
      "source": [
        "plt.plot(t,y)"
      ],
      "execution_count": 20,
      "outputs": [
        {
          "output_type": "execute_result",
          "data": {
            "text/plain": [
              "[<matplotlib.lines.Line2D at 0x7fedf4b8e2d0>]"
            ]
          },
          "metadata": {
            "tags": []
          },
          "execution_count": 20
        },
        {
          "output_type": "display_data",
          "data": {
            "image/png": "[encoded data removed]",
            "text/plain": [
              "<matplotlib.figure.Figure at 0x7fedf4c02750>"
            ]
          },
          "metadata": {
            "tags": []
          }
        }
      ]
    },
    {
      "metadata": {
        "id": "oHNeY97NACHY",
        "colab_type": "code",
        "colab": {
          "base_uri": "https://localhost:8080/",
          "height": 370
        },
        "outputId": "fbb05492-d6fd-4842-ff85-00e1df14ad7f"
      },
      "cell_type": "code",
      "source": [
        "#guardando as informações e salvando em txt\n",
        "data = np.vstack((t, y.T))\n",
        "data = data.T\n",
        "print(data)\n",
        "np.savetxt('data.txt',data, delimiter = \",\")\n",
        "files.download('data.txt')"
      ],
      "execution_count": 21,
      "outputs": [
        {
          "output_type": "stream",
          "text": [
            "[[ 0.          0.1       ]\n",
            " [ 0.5         0.12214028]\n",
            " [ 1.          0.14918247]\n",
            " [ 1.5         0.18221189]\n",
            " [ 2.          0.22255411]\n",
            " [ 2.5         0.27182821]\n",
            " [ 3.          0.33201174]\n",
            " [ 3.5         0.40552004]\n",
            " [ 4.          0.49530331]\n",
            " [ 4.5         0.60496485]\n",
            " [ 5.          0.73890575]\n",
            " [ 5.5         0.90250154]\n",
            " [ 6.          1.10231789]\n",
            " [ 6.5         1.34637414]\n",
            " [ 7.          1.64446512]\n",
            " [ 7.5         2.00855429]\n",
            " [ 8.          2.45325379]\n",
            " [ 8.5         2.99641101]\n",
            " [ 9.          3.65982476]\n",
            " [ 9.5         4.47012013]\n",
            " [10.          5.45981718]]\n"
          ],
          "name": "stdout"
        }
      ]
    },
    {
      "metadata": {
        "id": "MPHbPNICG3G3",
        "colab_type": "code",
        "colab": {
          "base_uri": "https://localhost:8080/",
          "height": 386
        },
        "outputId": "858fdab7-6141-415e-fcd4-7b84423c9314"
      },
      "cell_type": "code",
      "source": [
        "#salvando em csv\n",
        "import pandas as pd \n",
        "df = pd.DataFrame(data)\n",
        "df.to_csv(\"data.csv\")\n",
        "files.download('data.csv')\n",
        "print(df)"
      ],
      "execution_count": 22,
      "outputs": [
        {
          "output_type": "stream",
          "text": [
            "       0         1\n",
            "0    0.0  0.100000\n",
            "1    0.5  0.122140\n",
            "2    1.0  0.149182\n",
            "3    1.5  0.182212\n",
            "4    2.0  0.222554\n",
            "5    2.5  0.271828\n",
            "6    3.0  0.332012\n",
            "7    3.5  0.405520\n",
            "8    4.0  0.495303\n",
            "9    4.5  0.604965\n",
            "10   5.0  0.738906\n",
            "11   5.5  0.902502\n",
            "12   6.0  1.102318\n",
            "13   6.5  1.346374\n",
            "14   7.0  1.644465\n",
            "15   7.5  2.008554\n",
            "16   8.0  2.453254\n",
            "17   8.5  2.996411\n",
            "18   9.0  3.659825\n",
            "19   9.5  4.470120\n",
            "20  10.0  5.459817\n"
          ],
          "name": "stdout"
        }
      ]
    },
    {
      "metadata": {
        "id": "x6bZaNSjJV6m",
        "colab_type": "code",
        "colab": {}
      },
      "cell_type": "code",
      "source": [
        ""
      ],
      "execution_count": 0,
      "outputs": []
    }
  ]
}